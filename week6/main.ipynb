{
 "cells": [
  {
   "cell_type": "code",
   "execution_count": 1,
   "metadata": {},
   "outputs": [],
   "source": [
    "from raw_to_tick import raw2min\n",
    "import pandas as pd\n",
    "import os\n",
    "from functools import reduce"
   ]
  },
  {
   "cell_type": "markdown",
   "metadata": {},
   "source": [
    "### 处理期权合约tick数据"
   ]
  },
  {
   "cell_type": "code",
   "execution_count": 2,
   "metadata": {},
   "outputs": [
    {
     "output_type": "stream",
     "name": "stdout",
     "text": "['/Volumes/HD/data/OptionTick/Opt50ETF_TickKZ_Gen_Daily_201801/20180102', '/Volumes/HD/data/OptionTick/Opt50ETF_TickKZ_Gen_Daily_201801/20180103', '/Volumes/HD/data/OptionTick/Opt50ETF_TickKZ_Gen_Daily_201801/20180104', '/Volumes/HD/data/OptionTick/Opt50ETF_TickKZ_Gen_Daily_201801/20180105', '/Volumes/HD/data/OptionTick/Opt50ETF_TickKZ_Gen_Daily_201801/20180108', '/Volumes/HD/data/OptionTick/Opt50ETF_TickKZ_Gen_Daily_201801/20180109', '/Volumes/HD/data/OptionTick/Opt50ETF_TickKZ_Gen_Daily_201801/20180110', '/Volumes/HD/data/OptionTick/Opt50ETF_TickKZ_Gen_Daily_201801/20180111', '/Volumes/HD/data/OptionTick/Opt50ETF_TickKZ_Gen_Daily_201801/20180112', '/Volumes/HD/data/OptionTick/Opt50ETF_TickKZ_Gen_Daily_201801/20180115']\n"
    }
   ],
   "source": [
    "def get_dirs(path):\n",
    "    \"\"\"\n",
    "    获取OptionTick目录下所有单日目录\n",
    "    \"\"\"\n",
    "    subdirs = filter(os.path.isdir, map(lambda x: os.path.join(path, x), os.listdir(path)))\n",
    "\n",
    "    for subdir in subdirs:\n",
    "        day_dirs = filter(os.path.isdir, map(lambda x: os.path.join(subdir, x), os.listdir(subdir)))\n",
    "        yield from day_dirs\n",
    "\n",
    "    return subdirs\n",
    "\n",
    "day_dirs = get_dirs('/Volumes/HD/data/OptionTick')\n",
    "print(list(day_dirs)[:10])\n"
   ]
  },
  {
   "cell_type": "code",
   "execution_count": 6,
   "metadata": {},
   "outputs": [
    {
     "output_type": "stream",
     "name": "stdout",
     "text": "open    high     low   close\ndatetime                                           \n2018-01-02 09:29:00  0.3508  0.3508  0.3508  0.3508\n2018-01-02 09:30:00  0.3508  0.3508  0.3508  0.3508\n2018-01-02 09:31:00  0.3508  0.3508  0.3508  0.3508\n2018-01-02 09:32:00  0.3508  0.3508  0.3508  0.3508\n2018-01-02 09:33:00  0.3508  0.3508  0.3508  0.3508\n...                     ...     ...     ...     ...\n2018-01-02 14:56:00  0.3050  0.3050  0.3050  0.3050\n2018-01-02 14:57:00  0.3050  0.3050  0.3050  0.3050\n2018-01-02 14:58:00     NaN     NaN     NaN     NaN\n2018-01-02 14:59:00     NaN     NaN     NaN     NaN\n2018-01-02 15:00:00  0.3050  0.3050  0.3050  0.3050\n\n[664 rows x 4 columns]\n"
    }
   ],
   "source": [
    "day_dir = next(get_dirs('/Volumes/HD/data/OptionTick'))\n",
    "files = list(filter(os.path.isfile, map(lambda x: os.path.join(day_dir, x), os.listdir(day_dir))))[:2]\n",
    "\n",
    "def append_df(df1, df2):\n",
    "    if df1 is None:\n",
    "        return df2\n",
    "    else:\n",
    "        return df1.append(df2)\n",
    "\n",
    "def read_csv(path):\n",
    "    df = pd.read_csv(path, encoding='gb2312')\n",
    "    df = raw2min(df)\n",
    "    return df\n",
    "\n",
    "df = reduce(append_df, map(read_csv, files), None)\n",
    "\n",
    "print(df)\n",
    "\n"
   ]
  },
  {
   "cell_type": "code",
   "execution_count": null,
   "metadata": {},
   "outputs": [],
   "source": []
  }
 ],
 "metadata": {
  "language_info": {
   "codemirror_mode": {
    "name": "ipython",
    "version": 3
   },
   "file_extension": ".py",
   "mimetype": "text/x-python",
   "name": "python",
   "nbconvert_exporter": "python",
   "pygments_lexer": "ipython3",
   "version": "3.8.1-final"
  },
  "orig_nbformat": 2,
  "kernelspec": {
   "name": "python3",
   "display_name": "Python 3"
  }
 },
 "nbformat": 4,
 "nbformat_minor": 2
}