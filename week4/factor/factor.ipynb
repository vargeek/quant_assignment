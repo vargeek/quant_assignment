{
 "cells": [
  {
   "cell_type": "code",
   "execution_count": 103,
   "metadata": {},
   "outputs": [],
   "source": [
    "import pandas as pd\n",
    "import numpy as np"
   ]
  },
  {
   "cell_type": "markdown",
   "metadata": {},
   "source": [
    "**load data**"
   ]
  },
  {
   "cell_type": "code",
   "execution_count": 104,
   "metadata": {},
   "outputs": [
    {
     "output_type": "execute_result",
     "data": {
      "text/plain": "3108"
     },
     "metadata": {},
     "execution_count": 104
    }
   ],
   "source": [
    "data_path = '/Volumes/HD/2019/out/rb-1min/'\n",
    "files = os.listdir(data_path)\n",
    "data_list = [pd.read_csv(f\"{data_path}/{file}\", index_col='datetime') for file in files]\n",
    "len(data_list)"
   ]
  },
  {
   "cell_type": "code",
   "execution_count": 105,
   "metadata": {},
   "outputs": [
    {
     "output_type": "execute_result",
     "data": {
      "text/plain": "                       open    high     low   close  symbol  prev_settle  \\\ndatetime                                                                   \n2019-01-02 09:00:00  3543.0  3543.0  3543.0  3543.0  rb1902       3554.0   \n2019-01-02 09:00:00  3399.0  3405.0  3389.0  3401.0  rb1905       3400.0   \n2019-01-02 09:00:00  3269.0  3269.0  3256.0  3267.0  rb1909       3268.0   \n2019-01-02 09:00:00  3138.0  3138.0  3123.0  3123.0  rb1912       3133.0   \n2019-01-02 09:00:00  3352.0  3356.0  3352.0  3356.0  rb1906       3349.0   \n...                     ...     ...     ...     ...     ...          ...   \n2019-11-29 14:59:00  3618.0  3621.0  3617.0  3620.0  rb2001       3587.0   \n2019-11-29 14:59:00  3427.0  3429.0  3426.0  3427.0  rb2005       3386.0   \n2019-11-29 14:59:00  3505.0  3505.0  3505.0  3505.0  rb2003       3460.0   \n2019-11-29 14:59:00  3344.0  3344.0  3344.0  3344.0  rb2008       3301.0   \n2019-11-29 14:59:00  3980.0  3980.0  3980.0  3980.0  rb1912       3939.0   \n\n                     prev_close  prev_open_interest  day_open  day_high  ...  \\\ndatetime                                                                 ...   \n2019-01-02 09:00:00      3543.0              9220.0       0.0       0.0  ...   \n2019-01-02 09:00:00      3404.0           2374342.0    3398.0    3411.0  ...   \n2019-01-02 09:00:00      3269.0              4982.0       0.0    3267.0  ...   \n2019-01-02 09:00:00      3138.0               766.0       0.0    3123.0  ...   \n2019-01-02 09:00:00      3352.0              2052.0       0.0    3356.0  ...   \n...                         ...                 ...       ...       ...  ...   \n2019-11-29 14:59:00      3618.0           2333174.0    3616.0    3644.0  ...   \n2019-11-29 14:59:00      3418.0           1622948.0    3420.0    3451.0  ...   \n2019-11-29 14:59:00      3486.0             14038.0    3485.0    3525.0  ...   \n2019-11-29 14:59:00      3326.0              2176.0    3316.0    3359.0  ...   \n2019-11-29 14:59:00      3950.0               316.0    3990.0    3990.0  ...   \n\n                     open_ask_price1  open_ask_volume1  close_ask_price1  \\\ndatetime                                                                   \n2019-01-02 09:00:00           3598.0               1.0            3594.0   \n2019-01-02 09:00:00           3400.0             291.0            3401.0   \n2019-01-02 09:00:00           3315.0               1.0            3269.0   \n2019-01-02 09:00:00           3188.0               3.0            3151.0   \n2019-01-02 09:00:00           3432.0               3.0            3352.0   \n...                              ...               ...               ...   \n2019-11-29 14:59:00           3619.0             333.0            3620.0   \n2019-11-29 14:59:00           3428.0             638.0            3427.0   \n2019-11-29 14:59:00           3510.0               5.0            3510.0   \n2019-11-29 14:59:00           3344.0               1.0            3368.0   \n2019-11-29 14:59:00           3975.0               4.0            3980.0   \n\n                     close_ask_volume1  high_bid_price1  low_bid_price1  \\\ndatetime                                                                  \n2019-01-02 09:00:00               18.0           3522.0          3520.0   \n2019-01-02 09:00:00               61.0           3404.0          3388.0   \n2019-01-02 09:00:00                1.0           3268.0          3208.0   \n2019-01-02 09:00:00                2.0           3132.0          3097.0   \n2019-01-02 09:00:00                3.0           3347.0          3268.0   \n...                                ...              ...             ...   \n2019-11-29 14:59:00               79.0           3620.0          3617.0   \n2019-11-29 14:59:00              135.0           3429.0          3426.0   \n2019-11-29 14:59:00                5.0           3505.0          3491.0   \n2019-11-29 14:59:00                1.0           3336.0          3308.0   \n2019-11-29 14:59:00                1.0           3739.0             0.0   \n\n                     high_ask_price1  low_ask_price1     open_vwp    close_vwp  \ndatetime                                                                        \n2019-01-02 09:00:00           3598.0          3594.0  3546.000000  3586.800000  \n2019-01-02 09:00:00           3406.0          3389.0  3399.299691  3400.089574  \n2019-01-02 09:00:00           3315.0          3256.0  3261.500000  3265.500000  \n2019-01-02 09:00:00           3188.0          3142.0  3155.500000  3112.600000  \n2019-01-02 09:00:00           3432.0          3344.0  3350.000000  3350.000000  \n...                              ...             ...          ...          ...  \n2019-11-29 14:59:00           3621.0          3618.0  3618.154381  3619.341991  \n2019-11-29 14:59:00           3430.0          3427.0  3427.672287  3426.336658  \n2019-11-29 14:59:00           3510.0          3510.0  3508.285714  3506.000000  \n2019-11-29 14:59:00           3368.0          3344.0  3326.000000  3323.000000  \n2019-11-29 14:59:00           3980.0          3975.0  3896.333333  3980.000000  \n\n[973883 rows x 30 columns]",
      "text/html": "<div>\n<style scoped>\n    .dataframe tbody tr th:only-of-type {\n        vertical-align: middle;\n    }\n\n    .dataframe tbody tr th {\n        vertical-align: top;\n    }\n\n    .dataframe thead th {\n        text-align: right;\n    }\n</style>\n<table border=\"1\" class=\"dataframe\">\n  <thead>\n    <tr style=\"text-align: right;\">\n      <th></th>\n      <th>open</th>\n      <th>high</th>\n      <th>low</th>\n      <th>close</th>\n      <th>symbol</th>\n      <th>prev_settle</th>\n      <th>prev_close</th>\n      <th>prev_open_interest</th>\n      <th>day_open</th>\n      <th>day_high</th>\n      <th>...</th>\n      <th>open_ask_price1</th>\n      <th>open_ask_volume1</th>\n      <th>close_ask_price1</th>\n      <th>close_ask_volume1</th>\n      <th>high_bid_price1</th>\n      <th>low_bid_price1</th>\n      <th>high_ask_price1</th>\n      <th>low_ask_price1</th>\n      <th>open_vwp</th>\n      <th>close_vwp</th>\n    </tr>\n    <tr>\n      <th>datetime</th>\n      <th></th>\n      <th></th>\n      <th></th>\n      <th></th>\n      <th></th>\n      <th></th>\n      <th></th>\n      <th></th>\n      <th></th>\n      <th></th>\n      <th></th>\n      <th></th>\n      <th></th>\n      <th></th>\n      <th></th>\n      <th></th>\n      <th></th>\n      <th></th>\n      <th></th>\n      <th></th>\n      <th></th>\n    </tr>\n  </thead>\n  <tbody>\n    <tr>\n      <th>2019-01-02 09:00:00</th>\n      <td>3543.0</td>\n      <td>3543.0</td>\n      <td>3543.0</td>\n      <td>3543.0</td>\n      <td>rb1902</td>\n      <td>3554.0</td>\n      <td>3543.0</td>\n      <td>9220.0</td>\n      <td>0.0</td>\n      <td>0.0</td>\n      <td>...</td>\n      <td>3598.0</td>\n      <td>1.0</td>\n      <td>3594.0</td>\n      <td>18.0</td>\n      <td>3522.0</td>\n      <td>3520.0</td>\n      <td>3598.0</td>\n      <td>3594.0</td>\n      <td>3546.000000</td>\n      <td>3586.800000</td>\n    </tr>\n    <tr>\n      <th>2019-01-02 09:00:00</th>\n      <td>3399.0</td>\n      <td>3405.0</td>\n      <td>3389.0</td>\n      <td>3401.0</td>\n      <td>rb1905</td>\n      <td>3400.0</td>\n      <td>3404.0</td>\n      <td>2374342.0</td>\n      <td>3398.0</td>\n      <td>3411.0</td>\n      <td>...</td>\n      <td>3400.0</td>\n      <td>291.0</td>\n      <td>3401.0</td>\n      <td>61.0</td>\n      <td>3404.0</td>\n      <td>3388.0</td>\n      <td>3406.0</td>\n      <td>3389.0</td>\n      <td>3399.299691</td>\n      <td>3400.089574</td>\n    </tr>\n    <tr>\n      <th>2019-01-02 09:00:00</th>\n      <td>3269.0</td>\n      <td>3269.0</td>\n      <td>3256.0</td>\n      <td>3267.0</td>\n      <td>rb1909</td>\n      <td>3268.0</td>\n      <td>3269.0</td>\n      <td>4982.0</td>\n      <td>0.0</td>\n      <td>3267.0</td>\n      <td>...</td>\n      <td>3315.0</td>\n      <td>1.0</td>\n      <td>3269.0</td>\n      <td>1.0</td>\n      <td>3268.0</td>\n      <td>3208.0</td>\n      <td>3315.0</td>\n      <td>3256.0</td>\n      <td>3261.500000</td>\n      <td>3265.500000</td>\n    </tr>\n    <tr>\n      <th>2019-01-02 09:00:00</th>\n      <td>3138.0</td>\n      <td>3138.0</td>\n      <td>3123.0</td>\n      <td>3123.0</td>\n      <td>rb1912</td>\n      <td>3133.0</td>\n      <td>3138.0</td>\n      <td>766.0</td>\n      <td>0.0</td>\n      <td>3123.0</td>\n      <td>...</td>\n      <td>3188.0</td>\n      <td>3.0</td>\n      <td>3151.0</td>\n      <td>2.0</td>\n      <td>3132.0</td>\n      <td>3097.0</td>\n      <td>3188.0</td>\n      <td>3142.0</td>\n      <td>3155.500000</td>\n      <td>3112.600000</td>\n    </tr>\n    <tr>\n      <th>2019-01-02 09:00:00</th>\n      <td>3352.0</td>\n      <td>3356.0</td>\n      <td>3352.0</td>\n      <td>3356.0</td>\n      <td>rb1906</td>\n      <td>3349.0</td>\n      <td>3352.0</td>\n      <td>2052.0</td>\n      <td>0.0</td>\n      <td>3356.0</td>\n      <td>...</td>\n      <td>3432.0</td>\n      <td>3.0</td>\n      <td>3352.0</td>\n      <td>3.0</td>\n      <td>3347.0</td>\n      <td>3268.0</td>\n      <td>3432.0</td>\n      <td>3344.0</td>\n      <td>3350.000000</td>\n      <td>3350.000000</td>\n    </tr>\n    <tr>\n      <th>...</th>\n      <td>...</td>\n      <td>...</td>\n      <td>...</td>\n      <td>...</td>\n      <td>...</td>\n      <td>...</td>\n      <td>...</td>\n      <td>...</td>\n      <td>...</td>\n      <td>...</td>\n      <td>...</td>\n      <td>...</td>\n      <td>...</td>\n      <td>...</td>\n      <td>...</td>\n      <td>...</td>\n      <td>...</td>\n      <td>...</td>\n      <td>...</td>\n      <td>...</td>\n      <td>...</td>\n    </tr>\n    <tr>\n      <th>2019-11-29 14:59:00</th>\n      <td>3618.0</td>\n      <td>3621.0</td>\n      <td>3617.0</td>\n      <td>3620.0</td>\n      <td>rb2001</td>\n      <td>3587.0</td>\n      <td>3618.0</td>\n      <td>2333174.0</td>\n      <td>3616.0</td>\n      <td>3644.0</td>\n      <td>...</td>\n      <td>3619.0</td>\n      <td>333.0</td>\n      <td>3620.0</td>\n      <td>79.0</td>\n      <td>3620.0</td>\n      <td>3617.0</td>\n      <td>3621.0</td>\n      <td>3618.0</td>\n      <td>3618.154381</td>\n      <td>3619.341991</td>\n    </tr>\n    <tr>\n      <th>2019-11-29 14:59:00</th>\n      <td>3427.0</td>\n      <td>3429.0</td>\n      <td>3426.0</td>\n      <td>3427.0</td>\n      <td>rb2005</td>\n      <td>3386.0</td>\n      <td>3418.0</td>\n      <td>1622948.0</td>\n      <td>3420.0</td>\n      <td>3451.0</td>\n      <td>...</td>\n      <td>3428.0</td>\n      <td>638.0</td>\n      <td>3427.0</td>\n      <td>135.0</td>\n      <td>3429.0</td>\n      <td>3426.0</td>\n      <td>3430.0</td>\n      <td>3427.0</td>\n      <td>3427.672287</td>\n      <td>3426.336658</td>\n    </tr>\n    <tr>\n      <th>2019-11-29 14:59:00</th>\n      <td>3505.0</td>\n      <td>3505.0</td>\n      <td>3505.0</td>\n      <td>3505.0</td>\n      <td>rb2003</td>\n      <td>3460.0</td>\n      <td>3486.0</td>\n      <td>14038.0</td>\n      <td>3485.0</td>\n      <td>3525.0</td>\n      <td>...</td>\n      <td>3510.0</td>\n      <td>5.0</td>\n      <td>3510.0</td>\n      <td>5.0</td>\n      <td>3505.0</td>\n      <td>3491.0</td>\n      <td>3510.0</td>\n      <td>3510.0</td>\n      <td>3508.285714</td>\n      <td>3506.000000</td>\n    </tr>\n    <tr>\n      <th>2019-11-29 14:59:00</th>\n      <td>3344.0</td>\n      <td>3344.0</td>\n      <td>3344.0</td>\n      <td>3344.0</td>\n      <td>rb2008</td>\n      <td>3301.0</td>\n      <td>3326.0</td>\n      <td>2176.0</td>\n      <td>3316.0</td>\n      <td>3359.0</td>\n      <td>...</td>\n      <td>3344.0</td>\n      <td>1.0</td>\n      <td>3368.0</td>\n      <td>1.0</td>\n      <td>3336.0</td>\n      <td>3308.0</td>\n      <td>3368.0</td>\n      <td>3344.0</td>\n      <td>3326.000000</td>\n      <td>3323.000000</td>\n    </tr>\n    <tr>\n      <th>2019-11-29 14:59:00</th>\n      <td>3980.0</td>\n      <td>3980.0</td>\n      <td>3980.0</td>\n      <td>3980.0</td>\n      <td>rb1912</td>\n      <td>3939.0</td>\n      <td>3950.0</td>\n      <td>316.0</td>\n      <td>3990.0</td>\n      <td>3990.0</td>\n      <td>...</td>\n      <td>3975.0</td>\n      <td>4.0</td>\n      <td>3980.0</td>\n      <td>1.0</td>\n      <td>3739.0</td>\n      <td>0.0</td>\n      <td>3980.0</td>\n      <td>3975.0</td>\n      <td>3896.333333</td>\n      <td>3980.000000</td>\n    </tr>\n  </tbody>\n</table>\n<p>973883 rows × 30 columns</p>\n</div>"
     },
     "metadata": {},
     "execution_count": 105
    }
   ],
   "source": [
    "df = pd.concat(data_list).sort_index()\n",
    "df"
   ]
  },
  {
   "cell_type": "markdown",
   "metadata": {},
   "source": [
    "**Train develop set split**"
   ]
  },
  {
   "cell_type": "code",
   "execution_count": 106,
   "metadata": {},
   "outputs": [
    {
     "output_type": "stream",
     "name": "stdout",
     "text": "num_tickers: 23\ntrain_tickers: {'rb1905', 'rb2004', 'rb2005', 'rb1906', 'rb1903', 'rb1901', 'rb1910', 'rb1911', 'rb1912', 'rb2001', 'rb2002', 'rb1907', 'rb1904', 'rb1909', 'rb2003', 'rb1902', 'rb1908'}\ndev_tickers: {'rb2006', 'rb2011', 'rb2010', 'rb2007', 'rb2009', 'rb2008'}\ntrain: (857166, 30), dev: (116717, 30)\n"
    }
   ],
   "source": [
    "tickers = sorted(set(df.symbol))\n",
    "num_tickers = len(tickers)\n",
    "print(f\"num_tickers: {num_tickers}\")\n",
    "train_dev_split = int(0.75*num_tickers)\n",
    "train_tickers = set(tickers[:train_dev_split])\n",
    "dev_tickers = set(tickers[train_dev_split:])\n",
    "print(f\"train_tickers: {train_tickers}\")\n",
    "print(f\"dev_tickers: {dev_tickers}\")\n",
    "\n",
    "train = df[df.symbol.map(lambda x: x in train_tickers)]\n",
    "dev = df[df.symbol.map(lambda x: x in dev_tickers)]\n",
    "print(f\"train: {train.shape}, dev: {dev.shape}\")"
   ]
  },
  {
   "cell_type": "code",
   "execution_count": 107,
   "metadata": {},
   "outputs": [],
   "source": [
    "def calc(train, train_tickers):\n",
    "    for symbol in train_tickers:\n",
    "        index = train.symbol == symbol\n",
    "        train.loc[index, 'next_rtn'] = train.loc[index, 'close'].shift(-1) / train.loc[index, 'close'] - 1\n",
    "        train.loc[index, 'next_vw_rtn'] = train.loc[index, 'close_vwp'].shift(-1) / train.loc[index, 'close_vwp'] - 1\n",
    "        train.loc[index, 'rtn'] = train.loc[index, 'close'].pct_change() # percentage change\n",
    "        train.loc[index, 'next_log_rtn'] = np.log(train.loc[index, 'close'].shift(-1)) - np.log(train.loc[index, 'close'])\n",
    "\n",
    "        train.loc[index, 'bar_volume'] = train.loc[index, 'volume'] - train.loc[index, 'volume'].shift().fillna(0)\n",
    "        train.loc[index & train.bar_volume < 0, 'bar_volume'] = train.loc[index & train.bar_volume < 0, 'volume']\n",
    "        train.loc[index, 'bar_volume'] = train.loc[index, 'bar_volume'] / 2\n",
    "\n",
    "        train.loc[index, 'bar_turnover'] = train.loc[index, 'turnover'] - train.loc[index, 'turnover'].shift().fillna(0)\n",
    "        train.loc[index & train.bar_turnover < 0, 'bar_turnover'] = train.loc[index & train.bar_turnover < 0, 'turnover']\n",
    "\n",
    "        train.loc[index, 'prev_bar_volume'] = train.loc[index, 'bar_volume'].shift()\n",
    "        train.loc[index, 'mean_rtn_of_prev_5_bar'] = train.loc[index, 'rtn'].rolling(5, win_type=None).mean()\n",
    "        train.loc[index, 'mean_rtn_of_prev_20_bar'] = train.loc[index, 'rtn'].rolling(20, win_type=None).mean()\n",
    "        train.loc[index, 'mean_rtn_of_prev_60_bar'] = train.loc[index, 'rtn'].rolling(60, win_type=None).mean()\n",
    "\n",
    "        train.loc[index, 'mean_volume_of_prev_5_bar'] = train.loc[index, 'bar_volume'].rolling(5, win_type=None).mean()\n",
    "        train.loc[index, 'mean_volume_of_prev_20_bar'] = train.loc[index, 'bar_volume'].rolling(20, win_type=None).mean()\n",
    "\n",
    "        train.loc[index, 'mean_openinterest_of_prev_5_bar'] = train.loc[index, 'open_interest'].rolling(5, win_type=None).mean()\n",
    "        train.loc[index, 'mean_openinterest_of_prev_20_bar'] = train.loc[index, 'open_interest'].rolling(20, win_type=None).mean()\n",
    "\n",
    "        train.loc[index, 'prev_bar_turnover'] = train.loc[index, 'bar_turnover'].shift()\n",
    "\n",
    "        train.loc[index, 'mean_turnover_of_prev_5_bar'] = train.loc[index, 'bar_turnover'].rolling(5, win_type=None).mean()\n",
    "        train.loc[index, 'mean_turnover_of_prev_20_bar'] = train.loc[index, 'bar_turnover'].rolling(20, win_type=None).mean()\n",
    "        train.loc[index, 'prev_rtn'] = train.loc[index, 'rtn'].shift()\n",
    "    \n",
    "calc(train, train_tickers)\n",
    "calc(dev, dev_tickers)"
   ]
  },
  {
   "cell_type": "code",
   "execution_count": 108,
   "metadata": {},
   "outputs": [
    {
     "output_type": "execute_result",
     "data": {
      "text/plain": "               rtn  next_rtn\nrtn       1.000000 -0.062776\nnext_rtn -0.062776  1.000000",
      "text/html": "<div>\n<style scoped>\n    .dataframe tbody tr th:only-of-type {\n        vertical-align: middle;\n    }\n\n    .dataframe tbody tr th {\n        vertical-align: top;\n    }\n\n    .dataframe thead th {\n        text-align: right;\n    }\n</style>\n<table border=\"1\" class=\"dataframe\">\n  <thead>\n    <tr style=\"text-align: right;\">\n      <th></th>\n      <th>rtn</th>\n      <th>next_rtn</th>\n    </tr>\n  </thead>\n  <tbody>\n    <tr>\n      <th>rtn</th>\n      <td>1.000000</td>\n      <td>-0.062776</td>\n    </tr>\n    <tr>\n      <th>next_rtn</th>\n      <td>-0.062776</td>\n      <td>1.000000</td>\n    </tr>\n  </tbody>\n</table>\n</div>"
     },
     "metadata": {},
     "execution_count": 108
    }
   ],
   "source": [
    "result = train[['next_rtn', 'next_vw_rtn', 'rtn', 'next_log_rtn', 'bar_volume', 'bar_turnover', 'prev_bar_volume', 'mean_rtn_of_prev_5_bar', 'mean_rtn_of_prev_20_bar', 'mean_rtn_of_prev_60_bar', 'mean_volume_of_prev_5_bar', 'mean_volume_of_prev_20_bar', 'mean_openinterest_of_prev_5_bar', 'mean_openinterest_of_prev_20_bar', 'prev_bar_turnover', 'mean_turnover_of_prev_5_bar', 'mean_turnover_of_prev_20_bar', 'prev_rtn']]\n",
    "\n",
    "dev_result = dev[['next_rtn', 'next_vw_rtn', 'rtn', 'next_log_rtn', 'bar_volume', 'bar_turnover', 'prev_bar_volume', 'mean_rtn_of_prev_5_bar', 'mean_rtn_of_prev_20_bar', 'mean_rtn_of_prev_60_bar', 'mean_volume_of_prev_5_bar', 'mean_volume_of_prev_20_bar', 'mean_openinterest_of_prev_5_bar', 'mean_openinterest_of_prev_20_bar', 'prev_bar_turnover', 'mean_turnover_of_prev_5_bar', 'mean_turnover_of_prev_20_bar', 'prev_rtn']]\n",
    "\n",
    "result[['rtn', 'next_rtn']].corr()"
   ]
  },
  {
   "cell_type": "code",
   "execution_count": 109,
   "metadata": {},
   "outputs": [
    {
     "output_type": "execute_result",
     "data": {
      "text/plain": "Index(['bar_volume', 'bar_turnover', 'prev_bar_volume',\n       'mean_rtn_of_prev_5_bar', 'mean_rtn_of_prev_20_bar',\n       'mean_rtn_of_prev_60_bar', 'mean_volume_of_prev_5_bar',\n       'mean_volume_of_prev_20_bar', 'mean_openinterest_of_prev_5_bar',\n       'mean_openinterest_of_prev_20_bar', 'prev_bar_turnover',\n       'mean_turnover_of_prev_5_bar', 'mean_turnover_of_prev_20_bar',\n       'prev_rtn'],\n      dtype='object')"
     },
     "metadata": {},
     "execution_count": 109
    }
   ],
   "source": [
    "result.columns[4:]"
   ]
  },
  {
   "cell_type": "code",
   "execution_count": 110,
   "metadata": {},
   "outputs": [
    {
     "output_type": "stream",
     "name": "stdout",
     "text": "bar_volume 2.546408722643824e-05\nbar_turnover 2.436583650243473e-05\nprev_bar_volume 0.0015575065776185686\nmean_rtn_of_prev_5_bar -0.06490281853119778\nmean_rtn_of_prev_20_bar -0.05115782323978411\nmean_rtn_of_prev_60_bar -0.0323284899243997\nmean_volume_of_prev_5_bar 0.0008444879244011606\nmean_volume_of_prev_20_bar 0.0007972757278593856\nmean_openinterest_of_prev_5_bar -0.0008733886354782134\nmean_openinterest_of_prev_20_bar -0.0008711816675252179\nprev_bar_turnover 0.001541834210625902\nmean_turnover_of_prev_5_bar 0.0007947507433577122\nmean_turnover_of_prev_20_bar 0.0007385269256789401\nprev_rtn -0.032907674697611244\n"
    }
   ],
   "source": [
    "for col in result.columns[4:]:\n",
    "    data = result.dropna()\n",
    "    x = data[col]\n",
    "    y = data.next_rtn\n",
    "    corr = np.corrcoef(x,y)[0,1]\n",
    "    print(col, corr)"
   ]
  },
  {
   "cell_type": "code",
   "execution_count": 112,
   "metadata": {},
   "outputs": [
    {
     "output_type": "stream",
     "name": "stdout",
     "text": "0.004815540876648039\n[-2.52031542e-10  3.40156710e-15 -1.47306648e-10 -1.19983464e-01\n -1.29795963e-01 -3.60948145e-02  6.05144255e-10  1.71302469e-09\n -8.42796159e-10  8.42013521e-10  2.49745440e-15 -8.04128401e-15\n -2.27064642e-14 -7.84637298e-03]\n4.739606688397568e-05\n[-2.60927913e-10  3.55532239e-15 -4.13919674e-11 -3.05996493e-02\n -1.11431276e-02  3.82909631e-02  8.58810842e-10  2.20747333e-09\n -4.80048664e-10  4.78869896e-10  9.85749042e-16 -1.17645336e-14\n -2.89154532e-14 -2.21705894e-03]\n"
    }
   ],
   "source": [
    "from sklearn.linear_model import LinearRegression\n",
    "data = result.dropna()\n",
    "x = data.loc[:, data.columns[4:]]\n",
    "y1 = data.next_rtn\n",
    "y2 = data.next_vw_rtn\n",
    "reg1 = LinearRegression().fit(x,y1)\n",
    "print(reg1.score(x,y1))\n",
    "print(reg1.coef_)\n",
    "\n",
    "reg2 = LinearRegression().fit(x,y2)\n",
    "print(reg2.score(x,y2))\n",
    "print(reg2.coef_)\n",
    "\n"
   ]
  },
  {
   "cell_type": "code",
   "execution_count": 119,
   "metadata": {},
   "outputs": [
    {
     "output_type": "stream",
     "name": "stdout",
     "text": "0.0040515363217588085\n-2.9211626295655432e-05\n"
    }
   ],
   "source": [
    "data_dev = dev_result.dropna()\n",
    "x_dev = data_dev.loc[:, dev_result.columns[4:]]\n",
    "y1_dev = data_dev.next_rtn\n",
    "y2_dev = data_dev.next_vw_rtn\n",
    "print(reg1.score(x_dev, y1_dev))\n",
    "print(reg2.score(x_dev, y2_dev))"
   ]
  },
  {
   "cell_type": "code",
   "execution_count": null,
   "metadata": {},
   "outputs": [],
   "source": []
  }
 ],
 "metadata": {
  "language_info": {
   "codemirror_mode": {
    "name": "ipython",
    "version": 3
   },
   "file_extension": ".py",
   "mimetype": "text/x-python",
   "name": "python",
   "nbconvert_exporter": "python",
   "pygments_lexer": "ipython3",
   "version": "3.8.1-final"
  },
  "orig_nbformat": 2,
  "kernelspec": {
   "name": "python3",
   "display_name": "Python 3"
  }
 },
 "nbformat": 4,
 "nbformat_minor": 2
}